{
 "cells": [
  {
   "cell_type": "code",
   "execution_count": 1,
   "metadata": {
    "collapsed": false
   },
   "outputs": [],
   "source": [
    "import csv as csv\n",
    "import numpy as np\n",
    "import pandas as pd\n",
    "from sklearn.neural_network import MLPClassifier\n",
    "from sklearn.metrics import accuracy_score\n",
    "from sklearn.model_selection import train_test_split\n"
   ]
  },
  {
   "cell_type": "code",
   "execution_count": 2,
   "metadata": {
    "collapsed": false
   },
   "outputs": [],
   "source": [
    "#reading a preparing data \n",
    "train = pd.read_csv(\"train.csv\",header=0)\n",
    "test = pd.read_csv(\"test.csv\",header=0)\n",
    "#data in train and cross validation\n",
    "train_data = train.values\n",
    "X_train, X_crossval, y_train, y_crossval = train_test_split(train_data[0::,1::], train_data[0::,0], test_size=0.2, random_state=1)\n",
    "#test data\n",
    "submit_test = test.values\n"
   ]
  },
  {
   "cell_type": "code",
   "execution_count": 4,
   "metadata": {
    "collapsed": false
   },
   "outputs": [
    {
     "name": "stdout",
     "output_type": "stream",
     "text": [
      "0.96369047619\n"
     ]
    }
   ],
   "source": [
    "#train NN \n",
    "clf = MLPClassifier(solver='lbfgs', random_state=2,hidden_layer_sizes=(1000,500),alpha=1)\n",
    "clf.fit(X_train, y_train)   \n",
    "neural_output = clf.predict(X_crossval)\n",
    "print(accuracy_score(y_crossval, neural_output))\n",
    "# if we are ok with the results keep going to the next step\n"
   ]
  },
  {
   "cell_type": "code",
   "execution_count": 5,
   "metadata": {
    "collapsed": false
   },
   "outputs": [],
   "source": [
    "#train aagain the model with all train data\n",
    "X_trainf=train_data[:,1:]\n",
    "y_trainf=train_data[:,0]\n",
    "\n",
    "clf = MLPClassifier(solver='lbfgs', random_state=2,hidden_layer_sizes=(1000,500),alpha=1)\n",
    "clf.fit(X_trainf, y_trainf)   \n",
    "neural_output = clf.predict(submit_test)"
   ]
  },
  {
   "cell_type": "code",
   "execution_count": 6,
   "metadata": {
    "collapsed": false
   },
   "outputs": [
    {
     "name": "stdout",
     "output_type": "stream",
     "text": [
      "\"submission\" saved to file.\n"
     ]
    }
   ],
   "source": [
    "#save the results to an imput file\n",
    "output = neural_output\n",
    "predictions_file = open(\"submission.csv\", \"w\")\n",
    "open_file_object = csv.writer(predictions_file)\n",
    "ids = range(neural_output.__len__())\n",
    "ids = [x+1 for x in ids]\n",
    "open_file_object.writerow([\"ImageId\", \"Label\"])\n",
    "open_file_object.writerows(zip(ids, output))\n",
    "predictions_file.close()\n",
    "print('\"submission\" saved to file.')"
   ]
  },
  {
   "cell_type": "code",
   "execution_count": null,
   "metadata": {
    "collapsed": true
   },
   "outputs": [],
   "source": []
  }
 ],
 "metadata": {
  "anaconda-cloud": {},
  "kernelspec": {
   "display_name": "Python [default]",
   "language": "python",
   "name": "python3"
  },
  "language_info": {
   "codemirror_mode": {
    "name": "ipython",
    "version": 3
   },
   "file_extension": ".py",
   "mimetype": "text/x-python",
   "name": "python",
   "nbconvert_exporter": "python",
   "pygments_lexer": "ipython3",
   "version": "3.5.2"
  }
 },
 "nbformat": 4,
 "nbformat_minor": 1
}
